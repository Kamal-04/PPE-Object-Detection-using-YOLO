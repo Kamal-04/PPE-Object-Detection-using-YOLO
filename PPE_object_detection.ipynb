{
  "nbformat": 4,
  "nbformat_minor": 0,
  "metadata": {
    "colab": {
      "provenance": [],
      "gpuType": "T4"
    },
    "kernelspec": {
      "name": "python3",
      "display_name": "Python 3"
    },
    "language_info": {
      "name": "python"
    },
    "accelerator": "GPU"
  },
  "cells": [
    {
      "cell_type": "code",
      "execution_count": null,
      "metadata": {
        "id": "x6bOFlbr1Y3U"
      },
      "outputs": [],
      "source": [
        "!nvidia-smi"
      ]
    },
    {
      "cell_type": "code",
      "source": [
        "!pip install ultralytics\n",
        "#to access YOLO"
      ],
      "metadata": {
        "id": "Ol2QMEHn1oTc"
      },
      "execution_count": null,
      "outputs": []
    },
    {
      "cell_type": "code",
      "source": [
        "import ultralytics\n",
        "ultralytics.checks()\n",
        "#to ensure torch version and GPU"
      ],
      "metadata": {
        "id": "KYyU3-0O2EfE"
      },
      "execution_count": null,
      "outputs": []
    },
    {
      "cell_type": "code",
      "source": [
        "from google.colab import drive\n",
        "drive.mount('/content/drive')\n",
        "#upload the required dataset to your drive and mount it in colab"
      ],
      "metadata": {
        "id": "3Ih4bzBG2GVp"
      },
      "execution_count": null,
      "outputs": []
    },
    {
      "cell_type": "code",
      "source": [
        "%cd /content/drive/MyDrive/PPE\n",
        "#change the directory to the folder in drive where the dataset is located"
      ],
      "metadata": {
        "id": "7wVpkL6P2XWN"
      },
      "execution_count": null,
      "outputs": []
    },
    {
      "cell_type": "code",
      "source": [
        "#Begin training process by mentioning your required YOLO model and the .yaml file which contains path of the train and validation data\n",
        "\n",
        "!yolo task=detect mode=train model=yolov8s.pt data=data.yaml epochs=5 plots=True\n"
      ],
      "metadata": {
        "id": "xC6j43cu2g1T"
      },
      "execution_count": null,
      "outputs": []
    },
    {
      "cell_type": "code",
      "source": [
        "#The results of the run will be saved under the folder runs/detect/train.\n",
        "#best.pt & last.pt -> two models resulted from the training"
      ],
      "metadata": {
        "id": "Nrg9lp142wym"
      },
      "execution_count": null,
      "outputs": []
    },
    {
      "cell_type": "code",
      "source": [
        "#begin validation process by mentioning the location of best.pt in the model parameter\n",
        "!yolo task=detect mode=val model=/content/drive/MyDrive/YOUR-PATH/best.pt data=data.yaml"
      ],
      "metadata": {
        "id": "Y0-XidtE2w0H"
      },
      "execution_count": null,
      "outputs": []
    },
    {
      "cell_type": "code",
      "source": [
        "#mention the path of best.pt model and the data you want to test under the model and source paramters respectively\n",
        "\n",
        "!yolo task=detect mode=predict model=/content/drive/MyDrive/YOUR-PATH/best.pt conf=0.25 source=/content/path-to-test-image"
      ],
      "metadata": {
        "id": "lmJfelrO3X9m"
      },
      "execution_count": null,
      "outputs": []
    }
  ]
}